{
 "cells": [
  {
   "cell_type": "code",
   "execution_count": 35,
   "metadata": {
    "collapsed": false,
    "deletable": true,
    "editable": true
   },
   "outputs": [],
   "source": [
    "import pandas as pd\n",
    "import numpy as np\n",
    "import matplotlib.pyplot as plt\n",
    "\n",
    "# pas dit aan naar de directory waar de input bestanden zijn opgeslagen (relatief aan de huidige directory)\n",
    "source_directory = 'datafiles/links/output/'\n",
    "\n",
    "# header = \"dist|id_1|lname_hw_m|fname_hw_m|lname_hw_f|fname_hw_f|id_2|lname_p_m|fname_p_m|lname_p_f|fname_p_f\"\n",
    "\n",
    "lvl_3 = pd.read_csv(source_directory + 'matches_links_exact_lvl_3.csv', sep='|', index_col=False)\n",
    "lvl_4 = pd.read_csv(source_directory + 'matches_links_exact_lvl_4.csv', sep='|', index_col=False)\n",
    "lvl_5 = pd.read_csv(source_directory + 'matches_links_exact_lvl_5.csv', sep='|', index_col=False)"
   ]
  },
  {
   "cell_type": "code",
   "execution_count": 36,
   "metadata": {
    "collapsed": false
   },
   "outputs": [],
   "source": [
    "header_pairs = [('lname_hw_m', 'lname_p_m'),  # voornaam bruidegom / vader\n",
    "                ('fname_hw_m', 'fname_p_m'),  # familienaam bruidegom / vader\n",
    "                ('lname_hw_f', 'lname_p_f'),  # voornaam bruid / moeder\n",
    "                ('fname_hw_f', 'fname_p_f')]   # familienaam bruid / moeder\n",
    "\n",
    "\n",
    "for h1, h2 in header_pairs:\n",
    "    \n",
    "    # vervang lege velden (np.nan) naar lege strings\n",
    "    lvl_3[h1] = lvl_3[h1].fillna('')\n",
    "    lvl_3[h2] = lvl_3[h2].fillna('')\n",
    "    lvl_4[h1] = lvl_4[h1].fillna('')\n",
    "    lvl_4[h2] = lvl_4[h2].fillna('')\n",
    "    lvl_5[h1] = lvl_5[h1].fillna('')\n",
    "    lvl_5[h2] = lvl_5[h2].fillna('')\n",
    "    \n",
    "    # Check of de namen precies overeen komen (per naam-paar)...\n",
    "    header = 'name_' + str(header_pairs.index((h1, h2)) + 1) + '_equal'\n",
    "    lvl_3[header] = lvl_3[h1] == lvl_3[h2]\n",
    "    lvl_4[header] = lvl_4[h1] == lvl_4[h2]\n",
    "    lvl_5[header] = lvl_5[h1] == lvl_5[h2]"
   ]
  },
  {
   "cell_type": "code",
   "execution_count": 37,
   "metadata": {
    "collapsed": false
   },
   "outputs": [],
   "source": [
    "# Check of er precies 1 False is in de name_x_equal kolommen\n",
    "lvl_3['error_in_one_name'] = sum([~lvl_3['name_' + str(i) + '_equal'] for i in [1,2,3,4]]) == 1\n",
    "lvl_4['error_in_one_name'] = sum([~lvl_4['name_' + str(i) + '_equal'] for i in [1,2,3,4]]) == 1\n",
    "lvl_5['error_in_one_name'] = sum([~lvl_5['name_' + str(i) + '_equal'] for i in [1,2,3,4]]) == 1\n",
    "\n"
   ]
  },
  {
   "cell_type": "code",
   "execution_count": 38,
   "metadata": {
    "collapsed": false
   },
   "outputs": [],
   "source": [
    "def get_error_name_info(row):\n",
    "    \"\"\"\n",
    "    Geeft een tuple terug met de index van de naam waarin de fout zit en de lengte van de kortste naam,\n",
    "    mits de fout in één naam zit.\n",
    "    Voorbeeld: \n",
    "    \n",
    "        jan|pieterse|margriet|ee <--> jan|pieterse|maria|ee \n",
    "        geeft (3, 5) terug \n",
    "        \n",
    "        jan|peterse|margriet|ee <--> janus|pieterse|margreet|ee\n",
    "        geeft (-1, NAN) terug\n",
    "        \n",
    "    Gaat er van uit dat de kolommen met de uitkomst van de check per naam-paar bestaat. Zo niet, dan \n",
    "    gaat alles fout.\n",
    "    \"\"\"\n",
    "    # als de fout niet in 1 naam zit, dan is de index: -1 (en wordt de lengte van de naam ook niet uitgerekend )\n",
    "    index = [row['name_' + str(i) + '_equal'] for i in [1,2,3,4]].index(False) if row.error_in_one_name else -1\n",
    "    if index >= 0:\n",
    "        h1, h2 = header_pairs[index]\n",
    "        name_length = min(len(row[h1]), len(row[h2])) \n",
    "        return index + 1, name_length\n",
    "    \n",
    "    else:\n",
    "        return index, np.nan\n",
    "    \n",
    "    \n",
    "lvl_3['error_name_index'], lvl_3['error_name_length'] = zip(*lvl_3.apply(get_error_name_info, axis=1))\n",
    "lvl_4['error_name_index'], lvl_4['error_name_length'] = zip(*lvl_4.apply(get_error_name_info, axis=1))\n",
    "lvl_5['error_name_index'], lvl_5['error_name_length'] = zip(*lvl_5.apply(get_error_name_info, axis=1))"
   ]
  },
  {
   "cell_type": "code",
   "execution_count": 39,
   "metadata": {
    "collapsed": false
   },
   "outputs": [],
   "source": [
    "# filter op de rijen met de maximum edit distance en waarbij die distance in 1 naam zit (...en alleen bepaalde kolommen...)\n",
    "plotframe_3 = lvl_3[(lvl_3['dist'] == 3) & lvl_3.error_in_one_name][['dist', 'id_1', 'id_2', 'error_in_one_name', 'error_name_length']]\n",
    "plotframe_4 = lvl_4[(lvl_4['dist'] == 4) & lvl_4.error_in_one_name][['dist', 'id_1', 'id_2', 'error_in_one_name', 'error_name_length']]\n",
    "plotframe_5 = lvl_5[(lvl_5['dist'] == 5) & lvl_5.error_in_one_name][['dist', 'id_1', 'id_2', 'error_in_one_name', 'error_name_length']]\n"
   ]
  },
  {
   "cell_type": "code",
   "execution_count": 40,
   "metadata": {
    "collapsed": false
   },
   "outputs": [],
   "source": [
    "group_3 = plotframe_3.groupby(['error_name_length'])\n",
    "group_4 = plotframe_4.groupby(['error_name_length'])\n",
    "group_5 = plotframe_5.groupby(['error_name_length'])"
   ]
  },
  {
   "cell_type": "code",
   "execution_count": 41,
   "metadata": {
    "collapsed": false
   },
   "outputs": [
    {
     "data": {
      "text/plain": [
       "error_name_length\n",
       "1.0        2\n",
       "2.0       65\n",
       "3.0     1030\n",
       "4.0     2277\n",
       "5.0     2188\n",
       "6.0     1154\n",
       "7.0     1037\n",
       "8.0      613\n",
       "9.0      269\n",
       "10.0     329\n",
       "11.0      25\n",
       "12.0      16\n",
       "13.0       1\n",
       "14.0       1\n",
       "17.0       1\n",
       "19.0       1\n",
       "20.0       1\n",
       "dtype: int64"
      ]
     },
     "execution_count": 41,
     "metadata": {},
     "output_type": "execute_result"
    }
   ],
   "source": [
    "group_3.size()"
   ]
  },
  {
   "cell_type": "code",
   "execution_count": 42,
   "metadata": {
    "collapsed": false
   },
   "outputs": [
    {
     "data": {
      "text/plain": [
       "error_name_length\n",
       "0.0        2\n",
       "1.0        2\n",
       "2.0       57\n",
       "3.0     1812\n",
       "4.0     5251\n",
       "5.0     6538\n",
       "6.0     2651\n",
       "7.0     1215\n",
       "8.0      404\n",
       "9.0      187\n",
       "10.0      61\n",
       "11.0       7\n",
       "12.0       4\n",
       "dtype: int64"
      ]
     },
     "execution_count": 42,
     "metadata": {},
     "output_type": "execute_result"
    }
   ],
   "source": [
    "group_4.size()"
   ]
  },
  {
   "cell_type": "code",
   "execution_count": 43,
   "metadata": {
    "collapsed": false
   },
   "outputs": [
    {
     "data": {
      "text/plain": [
       "error_name_length\n",
       "0.0         3\n",
       "1.0         2\n",
       "2.0       198\n",
       "3.0      2793\n",
       "4.0      7747\n",
       "5.0     13239\n",
       "6.0      5838\n",
       "7.0      2434\n",
       "8.0       579\n",
       "9.0       218\n",
       "10.0       39\n",
       "11.0        3\n",
       "dtype: int64"
      ]
     },
     "execution_count": 43,
     "metadata": {},
     "output_type": "execute_result"
    }
   ],
   "source": [
    "group_5.size()"
   ]
  },
  {
   "cell_type": "code",
   "execution_count": 63,
   "metadata": {
    "collapsed": false
   },
   "outputs": [],
   "source": [
    "#df = pd.DataFrame(columns=[3,4,5], index=xrange(0,max(int(group_3.groups.keys()[-1]), int(group_4.groups.keys()[-1]), int(group_5.groups.keys()[-1])) + 1))\n",
    "df = pd.DataFrame(columns=[3,4,5], index=xrange(0,21))\n",
    "df[3] = group_3.size()\n",
    "df[4] = group_4.size()\n",
    "df[5] = group_5.size()\n",
    "df = df.fillna(0)\n",
    "df['3-perc'] = (df[3] / df[3].sum()) * 100\n",
    "df['4-perc'] = (df[4] / df[4].sum()) * 100\n",
    "df['5-perc'] = (df[5] / df[5].sum()) * 100"
   ]
  },
  {
   "cell_type": "code",
   "execution_count": 109,
   "metadata": {
    "collapsed": false,
    "scrolled": true
   },
   "outputs": [
    {
     "data": {
      "image/png": "[encoded data removed]",
      "text/plain": [
       "<matplotlib.figure.Figure at 0x964f2e8>"
      ]
     },
     "metadata": {},
     "output_type": "display_data"
    }
   ],
   "source": [
    "# barplot van het percentage van de count per woordlengte tov het totaal (per edit distance)\n",
    "df[['3-perc', '4-perc', '5-perc']].plot.bar()\n",
    "plt.title('Percentage per woordlengte tov totaal aantal registraties - uitgesplits naar edit distance')\n",
    "plt.xlabel('Woordlengte')\n",
    "plt.ylabel('%')\n",
    "plt.legend(['distance: 3', 'distance: 4', 'distance: 5'])\n",
    "plt.savefig(source_directory + 'percentage_per_woordlengte_per_distance.png', dpi=100, bbox_inches='tight')\n",
    "plt.show()"
   ]
  },
  {
   "cell_type": "code",
   "execution_count": 106,
   "metadata": {
    "collapsed": false,
    "scrolled": true
   },
   "outputs": [],
   "source": [
    "df.to_csv(source_directory + 'dist_in_een_woord.csv', sep=\"|\")"
   ]
  },
  {
   "cell_type": "code",
   "execution_count": 66,
   "metadata": {
    "collapsed": false,
    "scrolled": true
   },
   "outputs": [
    {
     "data": {
      "text/plain": [
       "9010.0"
      ]
     },
     "execution_count": 66,
     "metadata": {},
     "output_type": "execute_result"
    }
   ],
   "source": [
    "# Totaal aantal matches met een afstand van 3 in 1 naam\n",
    "df[3].sum()"
   ]
  },
  {
   "cell_type": "code",
   "execution_count": 67,
   "metadata": {
    "collapsed": false
   },
   "outputs": [
    {
     "data": {
      "text/plain": [
       "18191.0"
      ]
     },
     "execution_count": 67,
     "metadata": {},
     "output_type": "execute_result"
    }
   ],
   "source": [
    "# Totaal aantal matches met een afstand van 4 in 1 naam\n",
    "df[4].sum()"
   ]
  },
  {
   "cell_type": "code",
   "execution_count": 68,
   "metadata": {
    "collapsed": false
   },
   "outputs": [
    {
     "data": {
      "text/plain": [
       "33093.0"
      ]
     },
     "execution_count": 68,
     "metadata": {},
     "output_type": "execute_result"
    }
   ],
   "source": [
    "# Totaal aantal matches met een afstand van 5 in 1 naam\n",
    "df[5].sum()"
   ]
  }
 ],
 "metadata": {
  "kernelspec": {
   "display_name": "Python 2",
   "language": "python",
   "name": "python2"
  },
  "language_info": {
   "codemirror_mode": {
    "name": "ipython",
    "version": 2
   },
   "file_extension": ".py",
   "mimetype": "text/x-python",
   "name": "python",
   "nbconvert_exporter": "python",
   "pygments_lexer": "ipython2",
   "version": "2.7.13"
  }
 },
 "nbformat": 4,
 "nbformat_minor": 2
}
