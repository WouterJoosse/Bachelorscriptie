{
 "cells": [
  {
   "cell_type": "code",
   "execution_count": 1,
   "metadata": {
    "collapsed": true
   },
   "outputs": [],
   "source": [
    "import pandas as pd\n",
    "import numpy as np\n",
    "import os\n",
    "import matplotlib.pyplot as plt\n",
    "from programs.utils.analyse_functies import *\n",
    "SAVEFIGS = False"
   ]
  },
  {
   "cell_type": "code",
   "execution_count": 2,
   "metadata": {
    "collapsed": true
   },
   "outputs": [],
   "source": [
    "lvl_3_birth = pd.read_csv('datafiles/output_vectortree/huwelijk_geboorte/matches_links_exact_lvl_3_geboorte.csv', sep=\"|\", index_col=False)\n",
    "lvl_3_birth.columns = ['edit_distance', 'id_1', 'target_name_1', 'target_name_2', 'target_name_3', 'target_name_4', 'id_2', 'candidate_name_1', 'candidate_name_2', 'candidate_name_3', 'candidate_name_4']\n",
    "lvl_4_birth = pd.read_csv('datafiles/output_vectortree/huwelijk_geboorte/matches_links_exact_lvl_4_geboorte.csv', sep='|', index_col=False)\n",
    "lvl_4_birth.columns = ['edit_distance', 'id_1', 'target_name_1', 'target_name_2', 'target_name_3', 'target_name_4', 'id_2', 'candidate_name_1', 'candidate_name_2', 'candidate_name_3', 'candidate_name_4']\n",
    "lvl_5_birth = pd.read_csv('datafiles/output_vectortree/huwelijk_geboorte/matches_links_exact_lvl_5_geboorte.csv', sep='|', index_col=False)\n",
    "lvl_5_birth.columns = ['edit_distance', 'id_1', 'target_name_1', 'target_name_2', 'target_name_3', 'target_name_4', 'id_2', 'candidate_name_1', 'candidate_name_2', 'candidate_name_3', 'candidate_name_4']"
   ]
  },
  {
   "cell_type": "code",
   "execution_count": 3,
   "metadata": {
    "collapsed": true
   },
   "outputs": [],
   "source": [
    "lvl_3_mar = pd.read_csv('datafiles/output_vectortree/huwelijk_huwelijk/matches_links_exact_lvl_3_huwelijk.csv', sep=\"|\", index_col=False)\n",
    "lvl_3_mar.columns = ['edit_distance', 'id_1', 'target_name_1', 'target_name_2', 'target_name_3', 'target_name_4', 'id_2', 'candidate_name_1', 'candidate_name_2', 'candidate_name_3', 'candidate_name_4']\n",
    "lvl_4_mar = pd.read_csv('datafiles/output_vectortree/huwelijk_huwelijk/matches_links_exact_lvl_4_huwelijk.csv', sep='|', index_col=False)\n",
    "lvl_4_mar.columns = ['edit_distance', 'id_1', 'target_name_1', 'target_name_2', 'target_name_3', 'target_name_4', 'id_2', 'candidate_name_1', 'candidate_name_2', 'candidate_name_3', 'candidate_name_4']\n",
    "lvl_5_mar = pd.read_csv('datafiles/output_vectortree/huwelijk_huwelijk/matches_links_exact_lvl_5_huwelijk.csv', sep='|', index_col=False)\n",
    "lvl_5_mar.columns = ['edit_distance', 'id_1', 'target_name_1', 'target_name_2', 'target_name_3', 'target_name_4', 'id_2', 'candidate_name_1', 'candidate_name_2', 'candidate_name_3', 'candidate_name_4']"
   ]
  },
  {
   "cell_type": "code",
   "execution_count": 4,
   "metadata": {
    "collapsed": true
   },
   "outputs": [],
   "source": [
    "lvl_3_death = pd.read_csv('datafiles/output_vectortree/huwelijk_overlijden/matches_links_exact_lvl_3_overlijden.csv', sep=\"|\", index_col=False)\n",
    "lvl_3_death.columns = ['edit_distance', 'id_1', 'target_name_1', 'target_name_2', 'target_name_3', 'target_name_4', 'id_2', 'candidate_name_1', 'candidate_name_2', 'candidate_name_3', 'candidate_name_4']\n",
    "lvl_4_death = pd.read_csv('datafiles/output_vectortree/huwelijk_overlijden/matches_links_exact_lvl_4_overlijden.csv', sep='|', index_col=False)\n",
    "lvl_4_death.columns = ['edit_distance', 'id_1', 'target_name_1', 'target_name_2', 'target_name_3', 'target_name_4', 'id_2', 'candidate_name_1', 'candidate_name_2', 'candidate_name_3', 'candidate_name_4']\n",
    "lvl_5_death = pd.read_csv('datafiles/output_vectortree/huwelijk_overlijden/matches_links_exact_lvl_5_overlijden.csv', sep='|', index_col=False)\n",
    "lvl_5_death.columns = ['edit_distance', 'id_1', 'target_name_1', 'target_name_2', 'target_name_3', 'target_name_4', 'id_2', 'candidate_name_1', 'candidate_name_2', 'candidate_name_3', 'candidate_name_4']"
   ]
  },
  {
   "cell_type": "code",
   "execution_count": 5,
   "metadata": {
    "collapsed": true
   },
   "outputs": [],
   "source": [
    "lvl_3 = lvl_3_birth.append(lvl_3_mar).append(lvl_3_death)\n",
    "lvl_4 = lvl_4_birth.append(lvl_4_mar).append(lvl_4_death)\n",
    "lvl_5 = lvl_5_birth.append(lvl_5_mar).append(lvl_5_death)"
   ]
  },
  {
   "cell_type": "code",
   "execution_count": 6,
   "metadata": {},
   "outputs": [
    {
     "data": {
      "text/html": [
       "<div>\n",
       "<style>\n",
       "    .dataframe thead tr:only-child th {\n",
       "        text-align: right;\n",
       "    }\n",
       "\n",
       "    .dataframe thead th {\n",
       "        text-align: left;\n",
       "    }\n",
       "\n",
       "    .dataframe tbody tr th {\n",
       "        vertical-align: top;\n",
       "    }\n",
       "</style>\n",
       "<table border=\"1\" class=\"dataframe\">\n",
       "  <thead>\n",
       "    <tr style=\"text-align: right;\">\n",
       "      <th></th>\n",
       "      <th>id_1</th>\n",
       "    </tr>\n",
       "    <tr>\n",
       "      <th>edit_distance</th>\n",
       "      <th></th>\n",
       "    </tr>\n",
       "  </thead>\n",
       "  <tbody>\n",
       "    <tr>\n",
       "      <th>0</th>\n",
       "      <td>246288</td>\n",
       "    </tr>\n",
       "    <tr>\n",
       "      <th>1</th>\n",
       "      <td>80103</td>\n",
       "    </tr>\n",
       "    <tr>\n",
       "      <th>2</th>\n",
       "      <td>38952</td>\n",
       "    </tr>\n",
       "    <tr>\n",
       "      <th>3</th>\n",
       "      <td>28909</td>\n",
       "    </tr>\n",
       "    <tr>\n",
       "      <th>4</th>\n",
       "      <td>47584</td>\n",
       "    </tr>\n",
       "    <tr>\n",
       "      <th>5</th>\n",
       "      <td>114423</td>\n",
       "    </tr>\n",
       "  </tbody>\n",
       "</table>\n",
       "</div>"
      ],
      "text/plain": [
       "                 id_1\n",
       "edit_distance        \n",
       "0              246288\n",
       "1               80103\n",
       "2               38952\n",
       "3               28909\n",
       "4               47584\n",
       "5              114423"
      ]
     },
     "execution_count": 6,
     "metadata": {},
     "output_type": "execute_result"
    }
   ],
   "source": [
    "lvl_5_death[['edit_distance','id_1']].groupby('edit_distance').count()"
   ]
  },
  {
   "cell_type": "code",
   "execution_count": 7,
   "metadata": {
    "collapsed": true
   },
   "outputs": [],
   "source": [
    "lvl_3['dist_name_1'], lvl_3['dist_name_2'], lvl_3['dist_name_3'], lvl_3['dist_name_4'] = zip(*lvl_3.apply(get_levenshtein, axis=1))\n",
    "lvl_4['dist_name_1'], lvl_4['dist_name_2'], lvl_4['dist_name_3'], lvl_4['dist_name_4'] = zip(*lvl_4.apply(get_levenshtein, axis=1))\n",
    "lvl_5['dist_name_1'], lvl_5['dist_name_2'], lvl_5['dist_name_3'], lvl_5['dist_name_4'] = zip(*lvl_5.apply(get_levenshtein, axis=1))\n"
   ]
  },
  {
   "cell_type": "code",
   "execution_count": 8,
   "metadata": {
    "collapsed": true
   },
   "outputs": [],
   "source": [
    "lvl_3_dist_3 = lvl_3[lvl_3.edit_distance == 3]\n",
    "lvl_4_dist_4 = lvl_4[lvl_4.edit_distance == 4]\n",
    "lvl_5_dist_5 = lvl_5[lvl_5.edit_distance == 5]"
   ]
  },
  {
   "cell_type": "code",
   "execution_count": 9,
   "metadata": {},
   "outputs": [
    {
     "name": "stderr",
     "output_type": "stream",
     "text": [
      "/home/wouter/anaconda2/lib/python2.7/site-packages/ipykernel_launcher.py:1: SettingWithCopyWarning: \n",
      "A value is trying to be set on a copy of a slice from a DataFrame.\n",
      "Try using .loc[row_indexer,col_indexer] = value instead\n",
      "\n",
      "See the caveats in the documentation: http://pandas.pydata.org/pandas-docs/stable/indexing.html#indexing-view-versus-copy\n",
      "  \"\"\"Entry point for launching an IPython kernel.\n",
      "/home/wouter/anaconda2/lib/python2.7/site-packages/ipykernel_launcher.py:2: SettingWithCopyWarning: \n",
      "A value is trying to be set on a copy of a slice from a DataFrame.\n",
      "Try using .loc[row_indexer,col_indexer] = value instead\n",
      "\n",
      "See the caveats in the documentation: http://pandas.pydata.org/pandas-docs/stable/indexing.html#indexing-view-versus-copy\n",
      "  \n",
      "/home/wouter/anaconda2/lib/python2.7/site-packages/ipykernel_launcher.py:3: SettingWithCopyWarning: \n",
      "A value is trying to be set on a copy of a slice from a DataFrame.\n",
      "Try using .loc[row_indexer,col_indexer] = value instead\n",
      "\n",
      "See the caveats in the documentation: http://pandas.pydata.org/pandas-docs/stable/indexing.html#indexing-view-versus-copy\n",
      "  This is separate from the ipykernel package so we can avoid doing imports until\n"
     ]
    }
   ],
   "source": [
    "lvl_3_dist_3['dist'] = lvl_3_dist_3['edit_distance']\n",
    "lvl_4_dist_4['dist'] = lvl_4_dist_4['edit_distance']\n",
    "lvl_5_dist_5['dist'] = lvl_5_dist_5['edit_distance']"
   ]
  },
  {
   "cell_type": "code",
   "execution_count": 10,
   "metadata": {
    "scrolled": true
   },
   "outputs": [
    {
     "name": "stderr",
     "output_type": "stream",
     "text": [
      "/home/wouter/anaconda2/lib/python2.7/site-packages/ipykernel_launcher.py:1: SettingWithCopyWarning: \n",
      "A value is trying to be set on a copy of a slice from a DataFrame.\n",
      "Try using .loc[row_indexer,col_indexer] = value instead\n",
      "\n",
      "See the caveats in the documentation: http://pandas.pydata.org/pandas-docs/stable/indexing.html#indexing-view-versus-copy\n",
      "  \"\"\"Entry point for launching an IPython kernel.\n",
      "/home/wouter/anaconda2/lib/python2.7/site-packages/ipykernel_launcher.py:2: SettingWithCopyWarning: \n",
      "A value is trying to be set on a copy of a slice from a DataFrame.\n",
      "Try using .loc[row_indexer,col_indexer] = value instead\n",
      "\n",
      "See the caveats in the documentation: http://pandas.pydata.org/pandas-docs/stable/indexing.html#indexing-view-versus-copy\n",
      "  \n",
      "/home/wouter/anaconda2/lib/python2.7/site-packages/ipykernel_launcher.py:3: SettingWithCopyWarning: \n",
      "A value is trying to be set on a copy of a slice from a DataFrame.\n",
      "Try using .loc[row_indexer,col_indexer] = value instead\n",
      "\n",
      "See the caveats in the documentation: http://pandas.pydata.org/pandas-docs/stable/indexing.html#indexing-view-versus-copy\n",
      "  This is separate from the ipykernel package so we can avoid doing imports until\n"
     ]
    }
   ],
   "source": [
    "lvl_3_dist_3['Label'] = lvl_3_dist_3.apply(label_edit_distance_3, axis=1)\n",
    "lvl_4_dist_4['Label'] = lvl_4_dist_4.apply(label_edit_distance_4, axis=1)\n",
    "lvl_5_dist_5['Label'] = lvl_5_dist_5.apply(label_edit_distance_5, axis=1)"
   ]
  },
  {
   "cell_type": "code",
   "execution_count": 11,
   "metadata": {},
   "outputs": [
    {
     "data": {
      "image/png": "[encoded data removed]",
      "text/plain": [
       "<matplotlib.figure.Figure at 0x7fe31b0e4fd0>"
      ]
     },
     "metadata": {},
     "output_type": "display_data"
    }
   ],
   "source": [
    "ylim= (0, lvl_5_dist_5[['edit_distance','Label']].groupby('Label').count().max().values[0] *1.02)\n",
    "fig, axes = plt.subplots(nrows=1, ncols=3, figsize=(20,5), subplot_kw={'ylim': ylim})\n",
    "fig.suptitle(\"Distribution of error over names\")\n",
    "ax = lvl_3_dist_3[['edit_distance','Label']].groupby('Label').count().plot(kind='bar', title=\"threshold = 3\", legend=False, ax=axes[0])\n",
    "ax.set_xlabel(\"Distribution for edit distance 3\")\n",
    "ax.set_ylabel(\"Number of matches\")\n",
    "#plt.savefig('reports/figures/ed_3_labels.png', bbox_inches='tight')\n",
    "ax = lvl_4_dist_4[['edit_distance','Label']].groupby('Label').count().plot(kind='bar', title=\"threshold = 4\", legend=False, ax=axes[1])\n",
    "ax.set_xlabel(\"Distribution for edit distance 4\")\n",
    "ax = lvl_5_dist_5[['edit_distance','Label']].groupby('Label').count().plot(kind='bar', title=\"threshold = 5\", legend=False, ax=axes[2])\n",
    "ax.set_xlabel(\"Distribution for edit distance 5\")\n",
    "if SAVEFIGS:\n",
    "    fig.savefig('reports/figures/distribution_max_error_over_names_all.png', bbox_inches='tight')\n",
    "plt.show()"
   ]
  },
  {
   "cell_type": "code",
   "execution_count": 31,
   "metadata": {},
   "outputs": [
    {
     "data": {
      "text/html": [
       "<div>\n",
       "<style>\n",
       "    .dataframe thead tr:only-child th {\n",
       "        text-align: right;\n",
       "    }\n",
       "\n",
       "    .dataframe thead th {\n",
       "        text-align: left;\n",
       "    }\n",
       "\n",
       "    .dataframe tbody tr th {\n",
       "        vertical-align: top;\n",
       "    }\n",
       "</style>\n",
       "<table border=\"1\" class=\"dataframe\">\n",
       "  <thead>\n",
       "    <tr style=\"text-align: right;\">\n",
       "      <th></th>\n",
       "      <th>Label</th>\n",
       "    </tr>\n",
       "    <tr>\n",
       "      <th>edit_distance</th>\n",
       "      <th></th>\n",
       "    </tr>\n",
       "  </thead>\n",
       "  <tbody>\n",
       "    <tr>\n",
       "      <th>4</th>\n",
       "      <td>130245</td>\n",
       "    </tr>\n",
       "  </tbody>\n",
       "</table>\n",
       "</div>"
      ],
      "text/plain": [
       "                Label\n",
       "edit_distance        \n",
       "4              130245"
      ]
     },
     "execution_count": 31,
     "metadata": {},
     "output_type": "execute_result"
    }
   ],
   "source": [
    "lvl_4_dist_4[['edit_distance','Label']].groupby('edit_distance').count()"
   ]
  },
  {
   "cell_type": "code",
   "execution_count": 32,
   "metadata": {},
   "outputs": [
    {
     "data": {
      "text/html": [
       "<div>\n",
       "<style>\n",
       "    .dataframe thead tr:only-child th {\n",
       "        text-align: right;\n",
       "    }\n",
       "\n",
       "    .dataframe thead th {\n",
       "        text-align: left;\n",
       "    }\n",
       "\n",
       "    .dataframe tbody tr th {\n",
       "        vertical-align: top;\n",
       "    }\n",
       "</style>\n",
       "<table border=\"1\" class=\"dataframe\">\n",
       "  <thead>\n",
       "    <tr style=\"text-align: right;\">\n",
       "      <th></th>\n",
       "      <th>Label</th>\n",
       "    </tr>\n",
       "    <tr>\n",
       "      <th>edit_distance</th>\n",
       "      <th></th>\n",
       "    </tr>\n",
       "  </thead>\n",
       "  <tbody>\n",
       "    <tr>\n",
       "      <th>5</th>\n",
       "      <td>316945</td>\n",
       "    </tr>\n",
       "  </tbody>\n",
       "</table>\n",
       "</div>"
      ],
      "text/plain": [
       "                Label\n",
       "edit_distance        \n",
       "5              316945"
      ]
     },
     "execution_count": 32,
     "metadata": {},
     "output_type": "execute_result"
    }
   ],
   "source": [
    "lvl_5_dist_5[['edit_distance','Label']].groupby('edit_distance').count()"
   ]
  },
  {
   "cell_type": "code",
   "execution_count": 34,
   "metadata": {},
   "outputs": [
    {
     "data": {
      "text/html": [
       "<div>\n",
       "<style>\n",
       "    .dataframe thead tr:only-child th {\n",
       "        text-align: right;\n",
       "    }\n",
       "\n",
       "    .dataframe thead th {\n",
       "        text-align: left;\n",
       "    }\n",
       "\n",
       "    .dataframe tbody tr th {\n",
       "        vertical-align: top;\n",
       "    }\n",
       "</style>\n",
       "<table border=\"1\" class=\"dataframe\">\n",
       "  <thead>\n",
       "    <tr style=\"text-align: right;\">\n",
       "      <th></th>\n",
       "      <th>id_1</th>\n",
       "    </tr>\n",
       "    <tr>\n",
       "      <th>edit_distance</th>\n",
       "      <th></th>\n",
       "    </tr>\n",
       "  </thead>\n",
       "  <tbody>\n",
       "    <tr>\n",
       "      <th>0</th>\n",
       "      <td>787611</td>\n",
       "    </tr>\n",
       "    <tr>\n",
       "      <th>1</th>\n",
       "      <td>226444</td>\n",
       "    </tr>\n",
       "    <tr>\n",
       "      <th>2</th>\n",
       "      <td>106087</td>\n",
       "    </tr>\n",
       "    <tr>\n",
       "      <th>3</th>\n",
       "      <td>78154</td>\n",
       "    </tr>\n",
       "    <tr>\n",
       "      <th>4</th>\n",
       "      <td>130277</td>\n",
       "    </tr>\n",
       "  </tbody>\n",
       "</table>\n",
       "</div>"
      ],
      "text/plain": [
       "                 id_1\n",
       "edit_distance        \n",
       "0              787611\n",
       "1              226444\n",
       "2              106087\n",
       "3               78154\n",
       "4              130277"
      ]
     },
     "execution_count": 34,
     "metadata": {},
     "output_type": "execute_result"
    }
   ],
   "source": [
    "lvl_4[['edit_distance','id_1']].groupby('edit_distance').count()"
   ]
  },
  {
   "cell_type": "code",
   "execution_count": 35,
   "metadata": {},
   "outputs": [
    {
     "data": {
      "text/html": [
       "<div>\n",
       "<style>\n",
       "    .dataframe thead tr:only-child th {\n",
       "        text-align: right;\n",
       "    }\n",
       "\n",
       "    .dataframe thead th {\n",
       "        text-align: left;\n",
       "    }\n",
       "\n",
       "    .dataframe tbody tr th {\n",
       "        vertical-align: top;\n",
       "    }\n",
       "</style>\n",
       "<table border=\"1\" class=\"dataframe\">\n",
       "  <thead>\n",
       "    <tr style=\"text-align: right;\">\n",
       "      <th></th>\n",
       "      <th>id_1</th>\n",
       "    </tr>\n",
       "    <tr>\n",
       "      <th>edit_distance</th>\n",
       "      <th></th>\n",
       "    </tr>\n",
       "  </thead>\n",
       "  <tbody>\n",
       "    <tr>\n",
       "      <th>0</th>\n",
       "      <td>787611</td>\n",
       "    </tr>\n",
       "    <tr>\n",
       "      <th>1</th>\n",
       "      <td>226444</td>\n",
       "    </tr>\n",
       "    <tr>\n",
       "      <th>2</th>\n",
       "      <td>106087</td>\n",
       "    </tr>\n",
       "    <tr>\n",
       "      <th>3</th>\n",
       "      <td>78154</td>\n",
       "    </tr>\n",
       "    <tr>\n",
       "      <th>4</th>\n",
       "      <td>130301</td>\n",
       "    </tr>\n",
       "    <tr>\n",
       "      <th>5</th>\n",
       "      <td>317287</td>\n",
       "    </tr>\n",
       "  </tbody>\n",
       "</table>\n",
       "</div>"
      ],
      "text/plain": [
       "                 id_1\n",
       "edit_distance        \n",
       "0              787611\n",
       "1              226444\n",
       "2              106087\n",
       "3               78154\n",
       "4              130301\n",
       "5              317287"
      ]
     },
     "execution_count": 35,
     "metadata": {},
     "output_type": "execute_result"
    }
   ],
   "source": [
    "lvl_5[['edit_distance','id_1']].groupby('edit_distance').count()"
   ]
  },
  {
   "cell_type": "code",
   "execution_count": 18,
   "metadata": {
    "collapsed": true
   },
   "outputs": [],
   "source": [
    "label_map = {\n",
    "    0: 'first name male',\n",
    "    1: 'family name male',\n",
    "    2: 'first name female',\n",
    "    3: 'family name female'\n",
    "}\n"
   ]
  },
  {
   "cell_type": "code",
   "execution_count": 19,
   "metadata": {},
   "outputs": [
    {
     "data": {
      "text/html": [
       "<div>\n",
       "<style>\n",
       "    .dataframe thead tr:only-child th {\n",
       "        text-align: right;\n",
       "    }\n",
       "\n",
       "    .dataframe thead th {\n",
       "        text-align: left;\n",
       "    }\n",
       "\n",
       "    .dataframe tbody tr th {\n",
       "        vertical-align: top;\n",
       "    }\n",
       "</style>\n",
       "<table border=\"1\" class=\"dataframe\">\n",
       "  <thead>\n",
       "    <tr style=\"text-align: right;\">\n",
       "      <th></th>\n",
       "      <th>id_1</th>\n",
       "    </tr>\n",
       "    <tr>\n",
       "      <th>edit_distance</th>\n",
       "      <th></th>\n",
       "    </tr>\n",
       "  </thead>\n",
       "  <tbody>\n",
       "    <tr>\n",
       "      <th>0</th>\n",
       "      <td>787611</td>\n",
       "    </tr>\n",
       "    <tr>\n",
       "      <th>1</th>\n",
       "      <td>226444</td>\n",
       "    </tr>\n",
       "    <tr>\n",
       "      <th>2</th>\n",
       "      <td>106087</td>\n",
       "    </tr>\n",
       "    <tr>\n",
       "      <th>3</th>\n",
       "      <td>78152</td>\n",
       "    </tr>\n",
       "  </tbody>\n",
       "</table>\n",
       "</div>"
      ],
      "text/plain": [
       "                 id_1\n",
       "edit_distance        \n",
       "0              787611\n",
       "1              226444\n",
       "2              106087\n",
       "3               78152"
      ]
     },
     "execution_count": 19,
     "metadata": {},
     "output_type": "execute_result"
    }
   ],
   "source": [
    "lvl_3[['edit_distance','id_1']].groupby('edit_distance').count()"
   ]
  },
  {
   "cell_type": "code",
   "execution_count": 20,
   "metadata": {},
   "outputs": [
    {
     "data": {
      "text/plain": [
       "1198294"
      ]
     },
     "execution_count": 20,
     "metadata": {},
     "output_type": "execute_result"
    }
   ],
   "source": [
    "lvl_3.shape[0]"
   ]
  },
  {
   "cell_type": "code",
   "execution_count": 21,
   "metadata": {},
   "outputs": [
    {
     "data": {
      "text/html": [
       "<div>\n",
       "<style>\n",
       "    .dataframe thead tr:only-child th {\n",
       "        text-align: right;\n",
       "    }\n",
       "\n",
       "    .dataframe thead th {\n",
       "        text-align: left;\n",
       "    }\n",
       "\n",
       "    .dataframe tbody tr th {\n",
       "        vertical-align: top;\n",
       "    }\n",
       "</style>\n",
       "<table border=\"1\" class=\"dataframe\">\n",
       "  <thead>\n",
       "    <tr style=\"text-align: right;\">\n",
       "      <th></th>\n",
       "      <th>edit_distance</th>\n",
       "      <th>percentage</th>\n",
       "    </tr>\n",
       "    <tr>\n",
       "      <th>Label</th>\n",
       "      <th></th>\n",
       "      <th></th>\n",
       "    </tr>\n",
       "  </thead>\n",
       "  <tbody>\n",
       "    <tr>\n",
       "      <th>1,1,1</th>\n",
       "      <td>5038</td>\n",
       "      <td>0.064464</td>\n",
       "    </tr>\n",
       "    <tr>\n",
       "      <th>1,2</th>\n",
       "      <td>29462</td>\n",
       "      <td>0.376983</td>\n",
       "    </tr>\n",
       "    <tr>\n",
       "      <th>3</th>\n",
       "      <td>43652</td>\n",
       "      <td>0.558553</td>\n",
       "    </tr>\n",
       "  </tbody>\n",
       "</table>\n",
       "</div>"
      ],
      "text/plain": [
       "       edit_distance  percentage\n",
       "Label                           \n",
       "1,1,1           5038    0.064464\n",
       "1,2            29462    0.376983\n",
       "3              43652    0.558553"
      ]
     },
     "execution_count": 21,
     "metadata": {},
     "output_type": "execute_result"
    }
   ],
   "source": [
    "tab = lvl_3_dist_3[['edit_distance', 'Label']].groupby('Label').count()\n",
    "tab['percentage'] = tab.div(tab.sum())\n",
    "tab"
   ]
  },
  {
   "cell_type": "code",
   "execution_count": 22,
   "metadata": {
    "collapsed": true
   },
   "outputs": [],
   "source": [
    "lvl_3_samples = lvl_3_dist_3[lvl_3_dist_3.Label != '3'].sample(100)"
   ]
  },
  {
   "cell_type": "code",
   "execution_count": 23,
   "metadata": {
    "collapsed": true,
    "scrolled": false
   },
   "outputs": [],
   "source": [
    "lvl_3_samples.to_csv('datafiles/dataframes/working/lvl_3_samples.csv', sep=\"|\", index=False)"
   ]
  },
  {
   "cell_type": "code",
   "execution_count": 24,
   "metadata": {
    "collapsed": true
   },
   "outputs": [],
   "source": [
    "lvl_4_samples = lvl_4_dist_4[lvl_4_dist_4.Label != '4'].sample(100)"
   ]
  },
  {
   "cell_type": "code",
   "execution_count": 25,
   "metadata": {
    "collapsed": true,
    "scrolled": false
   },
   "outputs": [],
   "source": [
    "lvl_4_samples.to_csv('datafiles/dataframes/working/lvl_4_samples.csv', sep=\"|\", index=False)"
   ]
  },
  {
   "cell_type": "code",
   "execution_count": 26,
   "metadata": {
    "collapsed": true
   },
   "outputs": [],
   "source": [
    "lvl_5_samples = lvl_5_dist_5[(lvl_5_dist_5.Label != '5') & (lvl_5_dist_5.Label != '2,3')].sample(100)"
   ]
  },
  {
   "cell_type": "code",
   "execution_count": 27,
   "metadata": {
    "collapsed": true,
    "scrolled": false
   },
   "outputs": [],
   "source": [
    "lvl_5_samples.to_csv('datafiles/dataframes/working/lvl_5_samples.csv', sep=\"|\", index=False)"
   ]
  },
  {
   "cell_type": "code",
   "execution_count": 28,
   "metadata": {
    "collapsed": true
   },
   "outputs": [],
   "source": [
    "lvl_3_dist_3.to_csv('datafiles/dataframes/working/lvl_3_dist_3_all.csv', sep=\"|\", index=False)\n",
    "lvl_4_dist_4[lvl_4_dist_4.Label != '4'] .to_csv('datafiles/dataframes/working/lvl_4_dist_4_all.csv', sep=\"|\", index=False)\n",
    "lvl_5_dist_5[(lvl_5_dist_5.Label != '1,4') & (lvl_5_dist_5.Label != '5')].to_csv('datafiles/dataframes/working/lvl_5_dist_5_all.csv', sep=\"|\", index=False)"
   ]
  },
  {
   "cell_type": "code",
   "execution_count": 5,
   "metadata": {
    "collapsed": true
   },
   "outputs": [],
   "source": [
    "lvl_4_dist_4 = pd.read_csv('datafiles/dataframes/working/lvl_4_dist_4_all.csv', sep=\"|\", index_col=False)\n",
    "lvl_5_dist_5 = pd.read_csv('datafiles/dataframes/working/lvl_5_dist_5_all.csv', sep=\"|\", index_col=False)"
   ]
  },
  {
   "cell_type": "code",
   "execution_count": 8,
   "metadata": {},
   "outputs": [
    {
     "data": {
      "text/html": [
       "<div>\n",
       "<style>\n",
       "    .dataframe thead tr:only-child th {\n",
       "        text-align: right;\n",
       "    }\n",
       "\n",
       "    .dataframe thead th {\n",
       "        text-align: left;\n",
       "    }\n",
       "\n",
       "    .dataframe tbody tr th {\n",
       "        vertical-align: top;\n",
       "    }\n",
       "</style>\n",
       "<table border=\"1\" class=\"dataframe\">\n",
       "  <thead>\n",
       "    <tr style=\"text-align: right;\">\n",
       "      <th></th>\n",
       "      <th>edit_distance</th>\n",
       "      <th>id_1</th>\n",
       "      <th>target_name_1</th>\n",
       "      <th>target_name_2</th>\n",
       "      <th>target_name_3</th>\n",
       "      <th>target_name_4</th>\n",
       "      <th>id_2</th>\n",
       "      <th>candidate_name_1</th>\n",
       "      <th>candidate_name_2</th>\n",
       "      <th>candidate_name_3</th>\n",
       "      <th>candidate_name_4</th>\n",
       "      <th>dist_name_1</th>\n",
       "      <th>dist_name_2</th>\n",
       "      <th>dist_name_3</th>\n",
       "      <th>dist_name_4</th>\n",
       "      <th>dist</th>\n",
       "    </tr>\n",
       "    <tr>\n",
       "      <th>Label</th>\n",
       "      <th></th>\n",
       "      <th></th>\n",
       "      <th></th>\n",
       "      <th></th>\n",
       "      <th></th>\n",
       "      <th></th>\n",
       "      <th></th>\n",
       "      <th></th>\n",
       "      <th></th>\n",
       "      <th></th>\n",
       "      <th></th>\n",
       "      <th></th>\n",
       "      <th></th>\n",
       "      <th></th>\n",
       "      <th></th>\n",
       "      <th></th>\n",
       "    </tr>\n",
       "  </thead>\n",
       "  <tbody>\n",
       "    <tr>\n",
       "      <th>1,1,1,2</th>\n",
       "      <td>537</td>\n",
       "      <td>537</td>\n",
       "      <td>537</td>\n",
       "      <td>537</td>\n",
       "      <td>537</td>\n",
       "      <td>537</td>\n",
       "      <td>537</td>\n",
       "      <td>537</td>\n",
       "      <td>537</td>\n",
       "      <td>537</td>\n",
       "      <td>537</td>\n",
       "      <td>537</td>\n",
       "      <td>537</td>\n",
       "      <td>537</td>\n",
       "      <td>537</td>\n",
       "      <td>537</td>\n",
       "    </tr>\n",
       "    <tr>\n",
       "      <th>1,1,3</th>\n",
       "      <td>8559</td>\n",
       "      <td>8559</td>\n",
       "      <td>8559</td>\n",
       "      <td>8559</td>\n",
       "      <td>8559</td>\n",
       "      <td>8559</td>\n",
       "      <td>8559</td>\n",
       "      <td>8559</td>\n",
       "      <td>8559</td>\n",
       "      <td>8559</td>\n",
       "      <td>8559</td>\n",
       "      <td>8559</td>\n",
       "      <td>8559</td>\n",
       "      <td>8559</td>\n",
       "      <td>8559</td>\n",
       "      <td>8559</td>\n",
       "    </tr>\n",
       "    <tr>\n",
       "      <th>1,2,2</th>\n",
       "      <td>6186</td>\n",
       "      <td>6186</td>\n",
       "      <td>6186</td>\n",
       "      <td>6186</td>\n",
       "      <td>6186</td>\n",
       "      <td>6186</td>\n",
       "      <td>6186</td>\n",
       "      <td>6186</td>\n",
       "      <td>6186</td>\n",
       "      <td>6186</td>\n",
       "      <td>6186</td>\n",
       "      <td>6186</td>\n",
       "      <td>6186</td>\n",
       "      <td>6186</td>\n",
       "      <td>6186</td>\n",
       "      <td>6186</td>\n",
       "    </tr>\n",
       "    <tr>\n",
       "      <th>2,3</th>\n",
       "      <td>86006</td>\n",
       "      <td>86006</td>\n",
       "      <td>86006</td>\n",
       "      <td>86006</td>\n",
       "      <td>86006</td>\n",
       "      <td>86006</td>\n",
       "      <td>86006</td>\n",
       "      <td>86006</td>\n",
       "      <td>86006</td>\n",
       "      <td>86006</td>\n",
       "      <td>86002</td>\n",
       "      <td>86006</td>\n",
       "      <td>86006</td>\n",
       "      <td>86006</td>\n",
       "      <td>86006</td>\n",
       "      <td>86006</td>\n",
       "    </tr>\n",
       "  </tbody>\n",
       "</table>\n",
       "</div>"
      ],
      "text/plain": [
       "         edit_distance   id_1  target_name_1  target_name_2  target_name_3  \\\n",
       "Label                                                                        \n",
       "1,1,1,2            537    537            537            537            537   \n",
       "1,1,3             8559   8559           8559           8559           8559   \n",
       "1,2,2             6186   6186           6186           6186           6186   \n",
       "2,3              86006  86006          86006          86006          86006   \n",
       "\n",
       "         target_name_4   id_2  candidate_name_1  candidate_name_2  \\\n",
       "Label                                                               \n",
       "1,1,1,2            537    537               537               537   \n",
       "1,1,3             8559   8559              8559              8559   \n",
       "1,2,2             6186   6186              6186              6186   \n",
       "2,3              86006  86006             86006             86006   \n",
       "\n",
       "         candidate_name_3  candidate_name_4  dist_name_1  dist_name_2  \\\n",
       "Label                                                                   \n",
       "1,1,1,2               537               537          537          537   \n",
       "1,1,3                8559              8559         8559         8559   \n",
       "1,2,2                6186              6186         6186         6186   \n",
       "2,3                 86006             86002        86006        86006   \n",
       "\n",
       "         dist_name_3  dist_name_4   dist  \n",
       "Label                                     \n",
       "1,1,1,2          537          537    537  \n",
       "1,1,3           8559         8559   8559  \n",
       "1,2,2           6186         6186   6186  \n",
       "2,3            86006        86006  86006  "
      ]
     },
     "execution_count": 8,
     "metadata": {},
     "output_type": "execute_result"
    }
   ],
   "source": [
    "lvl_5_dist_5.groupby(\"Label\").count()"
   ]
  }
 ],
 "metadata": {
  "kernelspec": {
   "display_name": "Python 2",
   "language": "python",
   "name": "python2"
  },
  "language_info": {
   "codemirror_mode": {
    "name": "ipython",
    "version": 2
   },
   "file_extension": ".py",
   "mimetype": "text/x-python",
   "name": "python",
   "nbconvert_exporter": "python",
   "pygments_lexer": "ipython2",
   "version": "2.7.15"
  }
 },
 "nbformat": 4,
 "nbformat_minor": 2
}
