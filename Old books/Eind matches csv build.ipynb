{
 "cells": [
  {
   "cell_type": "code",
   "execution_count": 1,
   "metadata": {},
   "outputs": [
    {
     "ename": "ImportError",
     "evalue": "No module named programs.utils.analyse_functies",
     "output_type": "error",
     "traceback": [
      "\u001b[0;31m---------------------------------------------------------------------------\u001b[0m",
      "\u001b[0;31mImportError\u001b[0m                               Traceback (most recent call last)",
      "\u001b[0;32m<ipython-input-1-f1077c9e4d1c>\u001b[0m in \u001b[0;36m<module>\u001b[0;34m()\u001b[0m\n\u001b[1;32m      3\u001b[0m \u001b[0;32mimport\u001b[0m \u001b[0mos\u001b[0m\u001b[0;34m\u001b[0m\u001b[0m\n\u001b[1;32m      4\u001b[0m \u001b[0;32mimport\u001b[0m \u001b[0mmatplotlib\u001b[0m\u001b[0;34m.\u001b[0m\u001b[0mpyplot\u001b[0m \u001b[0;32mas\u001b[0m \u001b[0mplt\u001b[0m\u001b[0;34m\u001b[0m\u001b[0m\n\u001b[0;32m----> 5\u001b[0;31m \u001b[0;32mfrom\u001b[0m \u001b[0mprograms\u001b[0m\u001b[0;34m.\u001b[0m\u001b[0mutils\u001b[0m\u001b[0;34m.\u001b[0m\u001b[0manalyse_functies\u001b[0m \u001b[0;32mimport\u001b[0m \u001b[0;34m*\u001b[0m\u001b[0;34m\u001b[0m\u001b[0m\n\u001b[0m\u001b[1;32m      6\u001b[0m \u001b[0mSAVEFIGS\u001b[0m \u001b[0;34m=\u001b[0m \u001b[0mFalse\u001b[0m\u001b[0;34m\u001b[0m\u001b[0m\n",
      "\u001b[0;31mImportError\u001b[0m: No module named programs.utils.analyse_functies"
     ]
    }
   ],
   "source": [
    "import pandas as pd\n",
    "import numpy as np\n",
    "import os\n",
    "import matplotlib.pyplot as plt\n",
    "from programs.utils.analyse_functies import *\n",
    "SAVEFIGS = False"
   ]
  },
  {
   "cell_type": "code",
   "execution_count": null,
   "metadata": {
    "collapsed": true
   },
   "outputs": [],
   "source": [
    "geboorte_matches = pd.read_csv('datafiles/dataframes/working/geboorte_lvl_3_extended.csv', sep=\"|\", index_col=False).drop(\"ED_Label\", axis=1)\n",
    "extra_lvl_4_loose = pd.read_csv('datafiles/dataframes/working/geboorte_extra_lvl_4_loose.csv', sep=\"|\", index_col=False).drop([\"ED_Label\", \"Label\"], axis=1)\n",
    "extra_lvl_5_loose = pd.read_csv('datafiles/dataframes/working/geboorte_extra_lvl_5_loose.csv', sep=\"|\", index_col=False).drop([\"ED_Label\", \"Label\"], axis=1)\n",
    "\n",
    "extra_lvl_4_strict = pd.read_csv('datafiles/dataframes/working/geboorte_extra_lvl_4_strict.csv', sep=\"|\", index_col=False).drop([\"ED_Label\", \"Label\"], axis=1)\n",
    "extra_lvl_5_strict = pd.read_csv('datafiles/dataframes/working/geboorte_extra_lvl_5_strict.csv', sep=\"|\", index_col=False).drop([\"ED_Label\", \"Label\"], axis=1)\n",
    "\n",
    "registration_dates = pd.read_csv('datafiles/links/LINKS_Zeeland_cleaned_2016_01_Registrations.csv', sep=\";\")"
   ]
  },
  {
   "cell_type": "code",
   "execution_count": null,
   "metadata": {
    "collapsed": true
   },
   "outputs": [],
   "source": [
    "print geboorte_matches.shape\n",
    "print extra_lvl_4_loose.shape\n",
    "print extra_lvl_5_loose.shape\n",
    "\n",
    "print extra_lvl_4_strict.shape\n",
    "print extra_lvl_5_strict.shape"
   ]
  },
  {
   "cell_type": "code",
   "execution_count": null,
   "metadata": {
    "collapsed": true
   },
   "outputs": [],
   "source": [
    "#geboorte_matches_loose = pd.concat([geboorte_matches, extra_lvl_4_loose, extra_lvl_5_loose])\n",
    "geboorte_matches_strict = pd.concat([geboorte_matches, extra_lvl_4_strict, extra_lvl_5_strict])"
   ]
  },
  {
   "cell_type": "code",
   "execution_count": null,
   "metadata": {
    "collapsed": true
   },
   "outputs": [],
   "source": [
    "print geboorte_matches_loose.shape\n",
    "print geboorte_matches_strict.shape"
   ]
  },
  {
   "cell_type": "code",
   "execution_count": null,
   "metadata": {
    "collapsed": true
   },
   "outputs": [],
   "source": [
    "geboorte_matches_loose.groupby('')"
   ]
  },
  {
   "cell_type": "code",
   "execution_count": null,
   "metadata": {
    "collapsed": true
   },
   "outputs": [],
   "source": [
    "rowcounter = 0\n",
    "#geboorte_matches_loose['mar_date'], geboorte_matches_loose['event_date'] = zip(*geboorte_matches_loose.apply(get_event_date, axis=1, args=(registration_dates, rowcounter)))"
   ]
  },
  {
   "cell_type": "code",
   "execution_count": null,
   "metadata": {
    "collapsed": true
   },
   "outputs": [],
   "source": [
    "#geboorte_matches_strict['mar_date'], geboorte_matches_strict['event_date'] = zip(*geboorte_matches_strict.apply(get_event_date, axis=1, args=(registration_dates, rowcounter)))"
   ]
  },
  {
   "cell_type": "code",
   "execution_count": null,
   "metadata": {
    "collapsed": true
   },
   "outputs": [],
   "source": [
    "#geboorte_matches_loose.to_csv('datafiles/dataframes/working/huwelijk_geboortes_inclusief_lvl4_lvl5_loose.csv', sep=\"|\", index=False)\n",
    "#geboorte_matches_strict.to_csv('datafiles/dataframes/working/huwelijk_geboortes_inclusief_lvl4_lvl5_strict.csv', sep=\"|\", index=False)"
   ]
  },
  {
   "cell_type": "code",
   "execution_count": null,
   "metadata": {
    "collapsed": true
   },
   "outputs": [],
   "source": []
  }
 ],
 "metadata": {
  "kernelspec": {
   "display_name": "Python 2",
   "language": "python",
   "name": "python2"
  },
  "language_info": {
   "codemirror_mode": {
    "name": "ipython",
    "version": 2
   },
   "file_extension": ".py",
   "mimetype": "text/x-python",
   "name": "python",
   "nbconvert_exporter": "python",
   "pygments_lexer": "ipython2",
   "version": "2.7.14"
  }
 },
 "nbformat": 4,
 "nbformat_minor": 2
}
