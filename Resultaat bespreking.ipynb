{
 "cells": [
  {
   "cell_type": "code",
   "execution_count": 1,
   "metadata": {
    "collapsed": true
   },
   "outputs": [],
   "source": [
    "import pandas as pd\n",
    "import numpy as np\n",
    "import os\n",
    "import matplotlib.pyplot as plt\n",
    "from programs.utils.analyse_functies import *\n",
    "SAVEFIGS = False"
   ]
  },
  {
   "cell_type": "code",
   "execution_count": 2,
   "metadata": {
    "collapsed": true
   },
   "outputs": [],
   "source": [
    "lvl_3 = pd.read_csv('datafiles/output_vectortree/huwelijk_geboorte/matches_links_exact_lvl_3_geboorte.csv', sep=\"|\", index_col=False)\n",
    "lvl_4 = pd.read_csv('datafiles/output_vectortree/huwelijk_geboorte/matches_links_exact_lvl_4_geboorte.csv', sep=\"|\", index_col=False)\n",
    "lvl_5 = pd.read_csv('datafiles/output_vectortree/huwelijk_geboorte/matches_links_exact_lvl_5_geboorte.csv', sep=\"|\", index_col=False)"
   ]
  },
  {
   "cell_type": "code",
   "execution_count": 3,
   "metadata": {
    "collapsed": true
   },
   "outputs": [],
   "source": [
    "count_lvl_3 = lvl_3.shape[0]"
   ]
  },
  {
   "cell_type": "code",
   "execution_count": 4,
   "metadata": {
    "collapsed": true
   },
   "outputs": [],
   "source": [
    "count_lvl_4 = lvl_4[lvl_4.dist==4].shape[0]"
   ]
  },
  {
   "cell_type": "code",
   "execution_count": 5,
   "metadata": {
    "collapsed": true
   },
   "outputs": [],
   "source": [
    "count_lvl_5 = lvl_5[lvl_5.dist == 5].shape[0]"
   ]
  },
  {
   "cell_type": "code",
   "execution_count": 6,
   "metadata": {
    "collapsed": true
   },
   "outputs": [],
   "source": [
    "## Average number of parents per \n",
    "grouped3 = lvl_3[['id_1', 'id_2']].groupby('id_1').count()\n",
    "grouped4 = lvl_4[['id_1', 'id_2']].groupby('id_1').count()\n",
    "grouped5 = lvl_5[['id_1', 'id_2']].groupby('id_1').count()"
   ]
  },
  {
   "cell_type": "code",
   "execution_count": 7,
   "metadata": {},
   "outputs": [
    {
     "data": {
      "text/plain": [
       "<matplotlib.axes._subplots.AxesSubplot at 0x7f1a184d3550>"
      ]
     },
     "execution_count": 7,
     "metadata": {},
     "output_type": "execute_result"
    }
   ],
   "source": [
    "grouped3.boxplot()\n",
    "grouped4.boxplot()\n",
    "grouped5.boxplot()"
   ]
  },
  {
   "cell_type": "code",
   "execution_count": 8,
   "metadata": {},
   "outputs": [
    {
     "data": {
      "image/png": "[encoded data removed]",
      "text/plain": [
       "<matplotlib.figure.Figure at 0x7f1a1f15c950>"
      ]
     },
     "metadata": {},
     "output_type": "display_data"
    }
   ],
   "source": [
    "plt.show()"
   ]
  },
  {
   "cell_type": "code",
   "execution_count": 9,
   "metadata": {},
   "outputs": [
    {
     "name": "stdout",
     "output_type": "stream",
     "text": [
      "id_2    4.974517\n",
      "dtype: float64\n",
      "id_2    5.263146\n",
      "dtype: float64\n",
      "id_2    6.045014\n",
      "dtype: float64\n"
     ]
    }
   ],
   "source": [
    "print grouped3.mean()\n",
    "print grouped4.mean()\n",
    "print grouped5.mean()"
   ]
  }
 ],
 "metadata": {
  "kernelspec": {
   "display_name": "Python 2",
   "language": "python",
   "name": "python2"
  },
  "language_info": {
   "codemirror_mode": {
    "name": "ipython",
    "version": 2
   },
   "file_extension": ".py",
   "mimetype": "text/x-python",
   "name": "python",
   "nbconvert_exporter": "python",
   "pygments_lexer": "ipython2",
   "version": "2.7.15"
  }
 },
 "nbformat": 4,
 "nbformat_minor": 2
}
